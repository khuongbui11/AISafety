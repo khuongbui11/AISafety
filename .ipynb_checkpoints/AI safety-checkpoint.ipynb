{
 "cells": [
  {
   "cell_type": "code",
   "execution_count": 1,
   "metadata": {},
   "outputs": [
    {
     "data": {
      "text/markdown": [
       "# Demo"
      ],
      "text/plain": [
       "<IPython.core.display.Markdown object>"
      ]
     },
     "metadata": {},
     "output_type": "display_data"
    },
    {
     "data": {
      "application/vnd.jupyter.widget-view+json": {
       "model_id": "a03cc626bc4d407db86f0ac8f7e55401",
       "version_major": 2,
       "version_minor": 0
      },
      "text/plain": [
       "Image(value=b'\\xff\\xd8\\xff\\xe0\\x00\\x10JFIF\\x00\\x01\\x01\\x01\\x00`\\x00`\\x00\\x00\\xff\\xe1\\x10\\xdaExif\\x00\\x00MM\\x00…"
      ]
     },
     "metadata": {},
     "output_type": "display_data"
    },
    {
     "data": {
      "application/vnd.jupyter.widget-view+json": {
       "model_id": "c8c965370da140a7b5f24cfeea11f395",
       "version_major": 2,
       "version_minor": 0
      },
      "text/plain": [
       "VBox(children=(Button(description='Send', style=ButtonStyle()), Output()))"
      ]
     },
     "metadata": {},
     "output_type": "display_data"
    },
    {
     "data": {
      "application/vnd.jupyter.widget-view+json": {
       "model_id": "359fb9f4318244168e2d07b96b66a305",
       "version_major": 2,
       "version_minor": 0
      },
      "text/plain": [
       "Button(button_style='danger', description='Stop', icon='square', style=ButtonStyle(), tooltip='Description')"
      ]
     },
     "metadata": {},
     "output_type": "display_data"
    },
    {
     "data": {
      "application/vnd.jupyter.widget-view+json": {
       "model_id": "e431bafec1c648438ba0accc199edd9e",
       "version_major": 2,
       "version_minor": 0
      },
      "text/plain": [
       "FileUpload(value={}, description='Upload')"
      ]
     },
     "metadata": {},
     "output_type": "display_data"
    }
   ],
   "source": [
    "from IPython.core.display import display, HTML, Markdown, clear_output\n",
    "import sys\n",
    "import os\n",
    "import time\n",
    "import numpy as np\n",
    "import pandas as pd\n",
    "import matplotlib.pyplot as plt\n",
    "import ipywidgets as widgets\n",
    "from IPython.display import Image\n",
    "from IPython.display import clear_output\n",
    "from PIL import Image\n",
    "import io\n",
    "# Defining Widgets: \n",
    "    \n",
    "# CREATING BUTTON\n",
    "uploader = widgets.FileUpload()\n",
    "downloadButton = widgets.Button(\n",
    "    value=False,\n",
    "    description='Stop',\n",
    "    disabled=False,\n",
    "    button_style='danger', # 'success', 'info', 'warning', 'danger' or ''\n",
    "    tooltip='Description',\n",
    "    icon='square' # (FontAwesome names without the `fa-` prefix)\n",
    ")\n",
    "button = widgets.Button(description='Send')\n",
    "out = widgets.Output()\n",
    "def on_button_clicked(b):\n",
    "    global X, Y\n",
    "    with out:\n",
    "        clear_output()    \n",
    "        # Run\n",
    "        start = time.time()\n",
    "        for name, file_info in uploader.value.items():\n",
    "            img = Image.open(io.BytesIO(file_info['content']))\n",
    "        display(img)\n",
    "        img = img.save(\"test.jpg\")\n",
    "        !python detect.py --weights runs/train/exp8/weights/best.pt --img 640 --conf 0.25 --source test.jpg\n",
    "        clear_output(wait=True)\n",
    "        img2 = open('static/test.JPG', 'rb').read()\n",
    "        wi2 = widgets.Image(value=img2, format='png')\n",
    "        display(wi2)\n",
    "def on_downloadButton_clicked(b):\n",
    "    global X, Y\n",
    "    with out:       \n",
    "        cap.release()\n",
    "        display_handle.update(None)\n",
    "button.on_click(on_button_clicked)\n",
    "downloadButton.on_click(on_downloadButton_clicked)\n",
    "info1 = Markdown(\"\"\"# Demo\"\"\")\n",
    "grapher = widgets.VBox([button, out])\n",
    "img1 = open('logo.JPG', 'rb').read()\n",
    "wi1 = widgets.Image(value=img1, format='png', width=400, height=400)\n",
    "display(info1,wi1, grapher,uploader)"
   ]
  },
  {
   "cell_type": "code",
   "execution_count": null,
   "metadata": {},
   "outputs": [],
   "source": []
  }
 ],
 "metadata": {
  "kernelspec": {
   "display_name": "Python 3",
   "language": "python",
   "name": "python3"
  },
  "language_info": {
   "codemirror_mode": {
    "name": "ipython",
    "version": 3
   },
   "file_extension": ".py",
   "mimetype": "text/x-python",
   "name": "python",
   "nbconvert_exporter": "python",
   "pygments_lexer": "ipython3",
   "version": "3.8.3"
  }
 },
 "nbformat": 4,
 "nbformat_minor": 4
}
